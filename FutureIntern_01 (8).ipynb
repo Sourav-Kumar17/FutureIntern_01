{
 "cells": [
  {
   "cell_type": "code",
   "execution_count": 1,
   "id": "ecf792d1-f279-4262-af1a-4f42794cd122",
   "metadata": {},
   "outputs": [],
   "source": [
    "import os\n",
    "import pandas as pd\n",
    "import re\n"
   ]
  },
  {
   "cell_type": "code",
   "execution_count": 2,
   "id": "0077de2a-4735-41a8-9ef9-990dee073b13",
   "metadata": {},
   "outputs": [],
   "source": [
    "os.chdir('C:\\\\Users\\\\mahes\\\\Downloads')"
   ]
  },
  {
   "cell_type": "code",
   "execution_count": 3,
   "id": "dd08daf6-7a5a-41d1-8f63-dbdfeef19c39",
   "metadata": {},
   "outputs": [],
   "source": [
    "df=pd.read_csv('sentimentdataset.csv',encoding='ISO-8859-1')"
   ]
  },
  {
   "cell_type": "code",
   "execution_count": 4,
   "id": "47bf58c1-37d4-48d1-b880-1a576eec50af",
   "metadata": {},
   "outputs": [
    {
     "data": {
      "text/plain": [
       "Index(['Unnamed: 0', 'Text', 'Sentiment', 'Timestamp', 'User', 'Platform',\n",
       "       'Hashtags', 'Retweets', 'Likes', 'Country', 'Year', 'Month', 'Day',\n",
       "       'Hour', 'Clean_Text', 'Unnamed: 15', 'Unnamed: 16', 'Unnamed: 17',\n",
       "       'Unnamed: 18', 'Unnamed: 19'],\n",
       "      dtype='object')"
      ]
     },
     "execution_count": 4,
     "metadata": {},
     "output_type": "execute_result"
    }
   ],
   "source": [
    "df.columns"
   ]
  },
  {
   "cell_type": "code",
   "execution_count": 5,
   "id": "bbc876aa-1d98-4435-82d8-c157d5daecad",
   "metadata": {},
   "outputs": [
    {
     "data": {
      "text/html": [
       "<div>\n",
       "<style scoped>\n",
       "    .dataframe tbody tr th:only-of-type {\n",
       "        vertical-align: middle;\n",
       "    }\n",
       "\n",
       "    .dataframe tbody tr th {\n",
       "        vertical-align: top;\n",
       "    }\n",
       "\n",
       "    .dataframe thead th {\n",
       "        text-align: right;\n",
       "    }\n",
       "</style>\n",
       "<table border=\"1\" class=\"dataframe\">\n",
       "  <thead>\n",
       "    <tr style=\"text-align: right;\">\n",
       "      <th></th>\n",
       "      <th>Unnamed: 0</th>\n",
       "      <th>Text</th>\n",
       "      <th>Sentiment</th>\n",
       "      <th>Timestamp</th>\n",
       "      <th>User</th>\n",
       "      <th>Platform</th>\n",
       "      <th>Hashtags</th>\n",
       "      <th>Retweets</th>\n",
       "      <th>Likes</th>\n",
       "      <th>Country</th>\n",
       "      <th>Year</th>\n",
       "      <th>Month</th>\n",
       "      <th>Day</th>\n",
       "      <th>Hour</th>\n",
       "      <th>Clean_Text</th>\n",
       "      <th>Unnamed: 15</th>\n",
       "      <th>Unnamed: 16</th>\n",
       "      <th>Unnamed: 17</th>\n",
       "      <th>Unnamed: 18</th>\n",
       "      <th>Unnamed: 19</th>\n",
       "    </tr>\n",
       "  </thead>\n",
       "  <tbody>\n",
       "    <tr>\n",
       "      <th>0</th>\n",
       "      <td>0</td>\n",
       "      <td>Enjoying a beautiful day at the park!        ...</td>\n",
       "      <td>Positive</td>\n",
       "      <td>15-01-2023 12:30</td>\n",
       "      <td>User123</td>\n",
       "      <td>Twitter</td>\n",
       "      <td>#Nature #Park</td>\n",
       "      <td>15</td>\n",
       "      <td>30</td>\n",
       "      <td>USA</td>\n",
       "      <td>2023</td>\n",
       "      <td>1</td>\n",
       "      <td>15</td>\n",
       "      <td>12</td>\n",
       "      <td>enjoying a beautiful day at the park!        ...</td>\n",
       "      <td>enjoying a beautiful day at the park!        ...</td>\n",
       "      <td>enjoying a beautiful day at the park         ...</td>\n",
       "      <td>False</td>\n",
       "      <td>NaN</td>\n",
       "      <td>NaN</td>\n",
       "    </tr>\n",
       "    <tr>\n",
       "      <th>1</th>\n",
       "      <td>1</td>\n",
       "      <td>Traffic was terrible this morning.           ...</td>\n",
       "      <td>Negative</td>\n",
       "      <td>15-01-2023 08:45</td>\n",
       "      <td>CommuterX</td>\n",
       "      <td>Twitter</td>\n",
       "      <td>#Traffic #Morning</td>\n",
       "      <td>5</td>\n",
       "      <td>10</td>\n",
       "      <td>Canada</td>\n",
       "      <td>2023</td>\n",
       "      <td>1</td>\n",
       "      <td>15</td>\n",
       "      <td>8</td>\n",
       "      <td>traffic was terrible this morning.           ...</td>\n",
       "      <td>traffic was terrible this morning.           ...</td>\n",
       "      <td>traffic was terrible this morning            ...</td>\n",
       "      <td>False</td>\n",
       "      <td>NaN</td>\n",
       "      <td>NaN</td>\n",
       "    </tr>\n",
       "  </tbody>\n",
       "</table>\n",
       "</div>"
      ],
      "text/plain": [
       "   Unnamed: 0                                               Text    Sentiment  \\\n",
       "0           0   Enjoying a beautiful day at the park!        ...   Positive     \n",
       "1           1   Traffic was terrible this morning.           ...   Negative     \n",
       "\n",
       "          Timestamp            User    Platform  \\\n",
       "0  15-01-2023 12:30   User123         Twitter     \n",
       "1  15-01-2023 08:45   CommuterX       Twitter     \n",
       "\n",
       "                                     Hashtags  Retweets  Likes     Country  \\\n",
       "0   #Nature #Park                                    15     30   USA         \n",
       "1   #Traffic #Morning                                 5     10   Canada      \n",
       "\n",
       "   Year  Month  Day  Hour                                         Clean_Text  \\\n",
       "0  2023      1   15    12   enjoying a beautiful day at the park!        ...   \n",
       "1  2023      1   15     8   traffic was terrible this morning.           ...   \n",
       "\n",
       "                                         Unnamed: 15  \\\n",
       "0   enjoying a beautiful day at the park!        ...   \n",
       "1   traffic was terrible this morning.           ...   \n",
       "\n",
       "                                         Unnamed: 16  Unnamed: 17  \\\n",
       "0   enjoying a beautiful day at the park         ...        False   \n",
       "1   traffic was terrible this morning            ...        False   \n",
       "\n",
       "   Unnamed: 18  Unnamed: 19  \n",
       "0          NaN          NaN  \n",
       "1          NaN          NaN  "
      ]
     },
     "execution_count": 5,
     "metadata": {},
     "output_type": "execute_result"
    }
   ],
   "source": [
    "df.head(2)"
   ]
  },
  {
   "cell_type": "code",
   "execution_count": 11,
   "id": "d3957a91-3adf-4440-a000-c7d1ec7e7ccf",
   "metadata": {},
   "outputs": [],
   "source": [
    "df.drop(['Clean_Text', 'Unnamed: 15', 'Unnamed: 16', 'Unnamed: 17','Unnamed: 18', 'Unnamed: 19'],axis=1,inplace=True)"
   ]
  },
  {
   "cell_type": "code",
   "execution_count": 13,
   "id": "f6e18c27-781a-4cbb-abd1-3aef12062ee2",
   "metadata": {},
   "outputs": [
    {
     "data": {
      "text/html": [
       "<div>\n",
       "<style scoped>\n",
       "    .dataframe tbody tr th:only-of-type {\n",
       "        vertical-align: middle;\n",
       "    }\n",
       "\n",
       "    .dataframe tbody tr th {\n",
       "        vertical-align: top;\n",
       "    }\n",
       "\n",
       "    .dataframe thead th {\n",
       "        text-align: right;\n",
       "    }\n",
       "</style>\n",
       "<table border=\"1\" class=\"dataframe\">\n",
       "  <thead>\n",
       "    <tr style=\"text-align: right;\">\n",
       "      <th></th>\n",
       "      <th>Unnamed: 0</th>\n",
       "      <th>Text</th>\n",
       "      <th>Sentiment</th>\n",
       "      <th>Timestamp</th>\n",
       "      <th>User</th>\n",
       "      <th>Platform</th>\n",
       "      <th>Hashtags</th>\n",
       "      <th>Retweets</th>\n",
       "      <th>Likes</th>\n",
       "      <th>Country</th>\n",
       "      <th>Year</th>\n",
       "      <th>Month</th>\n",
       "      <th>Day</th>\n",
       "      <th>Hour</th>\n",
       "    </tr>\n",
       "  </thead>\n",
       "  <tbody>\n",
       "    <tr>\n",
       "      <th>0</th>\n",
       "      <td>0</td>\n",
       "      <td>Enjoying a beautiful day at the park!        ...</td>\n",
       "      <td>Positive</td>\n",
       "      <td>15-01-2023 12:30</td>\n",
       "      <td>User123</td>\n",
       "      <td>Twitter</td>\n",
       "      <td>#Nature #Park</td>\n",
       "      <td>15</td>\n",
       "      <td>30</td>\n",
       "      <td>USA</td>\n",
       "      <td>2023</td>\n",
       "      <td>1</td>\n",
       "      <td>15</td>\n",
       "      <td>12</td>\n",
       "    </tr>\n",
       "    <tr>\n",
       "      <th>1</th>\n",
       "      <td>1</td>\n",
       "      <td>Traffic was terrible this morning.           ...</td>\n",
       "      <td>Negative</td>\n",
       "      <td>15-01-2023 08:45</td>\n",
       "      <td>CommuterX</td>\n",
       "      <td>Twitter</td>\n",
       "      <td>#Traffic #Morning</td>\n",
       "      <td>5</td>\n",
       "      <td>10</td>\n",
       "      <td>Canada</td>\n",
       "      <td>2023</td>\n",
       "      <td>1</td>\n",
       "      <td>15</td>\n",
       "      <td>8</td>\n",
       "    </tr>\n",
       "  </tbody>\n",
       "</table>\n",
       "</div>"
      ],
      "text/plain": [
       "   Unnamed: 0                                               Text    Sentiment  \\\n",
       "0           0   Enjoying a beautiful day at the park!        ...   Positive     \n",
       "1           1   Traffic was terrible this morning.           ...   Negative     \n",
       "\n",
       "          Timestamp            User    Platform  \\\n",
       "0  15-01-2023 12:30   User123         Twitter     \n",
       "1  15-01-2023 08:45   CommuterX       Twitter     \n",
       "\n",
       "                                     Hashtags  Retweets  Likes     Country  \\\n",
       "0   #Nature #Park                                    15     30   USA         \n",
       "1   #Traffic #Morning                                 5     10   Canada      \n",
       "\n",
       "   Year  Month  Day  Hour  \n",
       "0  2023      1   15    12  \n",
       "1  2023      1   15     8  "
      ]
     },
     "execution_count": 13,
     "metadata": {},
     "output_type": "execute_result"
    }
   ],
   "source": [
    "df.head(2)"
   ]
  },
  {
   "cell_type": "code",
   "execution_count": 67,
   "id": "63a361ca-8be5-4953-9d5e-7e8fdf1cb0ed",
   "metadata": {},
   "outputs": [
    {
     "name": "stdout",
     "output_type": "stream",
     "text": [
      "Collecting textblobNote: you may need to restart the kernel to use updated packages.\n",
      "\n",
      "  Downloading textblob-0.19.0-py3-none-any.whl.metadata (4.4 kB)\n",
      "Requirement already satisfied: tweepy in c:\\users\\mahes\\anaconda3\\lib\\site-packages (4.15.0)\n",
      "Collecting nltk>=3.9 (from textblob)\n",
      "  Downloading nltk-3.9.1-py3-none-any.whl.metadata (2.9 kB)\n",
      "Requirement already satisfied: oauthlib<4,>=3.2.0 in c:\\users\\mahes\\anaconda3\\lib\\site-packages (from tweepy) (3.2.2)\n",
      "Requirement already satisfied: requests<3,>=2.27.0 in c:\\users\\mahes\\anaconda3\\lib\\site-packages (from tweepy) (2.32.2)\n",
      "Requirement already satisfied: requests-oauthlib<3,>=1.2.0 in c:\\users\\mahes\\anaconda3\\lib\\site-packages (from tweepy) (2.0.0)\n",
      "Requirement already satisfied: click in c:\\users\\mahes\\anaconda3\\lib\\site-packages (from nltk>=3.9->textblob) (8.1.7)\n",
      "Requirement already satisfied: joblib in c:\\users\\mahes\\anaconda3\\lib\\site-packages (from nltk>=3.9->textblob) (1.4.2)\n",
      "Requirement already satisfied: regex>=2021.8.3 in c:\\users\\mahes\\anaconda3\\lib\\site-packages (from nltk>=3.9->textblob) (2023.10.3)\n",
      "Requirement already satisfied: tqdm in c:\\users\\mahes\\anaconda3\\lib\\site-packages (from nltk>=3.9->textblob) (4.66.4)\n",
      "Requirement already satisfied: charset-normalizer<4,>=2 in c:\\users\\mahes\\anaconda3\\lib\\site-packages (from requests<3,>=2.27.0->tweepy) (2.0.4)\n",
      "Requirement already satisfied: idna<4,>=2.5 in c:\\users\\mahes\\anaconda3\\lib\\site-packages (from requests<3,>=2.27.0->tweepy) (3.7)\n",
      "Requirement already satisfied: urllib3<3,>=1.21.1 in c:\\users\\mahes\\anaconda3\\lib\\site-packages (from requests<3,>=2.27.0->tweepy) (2.2.2)\n",
      "Requirement already satisfied: certifi>=2017.4.17 in c:\\users\\mahes\\anaconda3\\lib\\site-packages (from requests<3,>=2.27.0->tweepy) (2024.8.30)\n",
      "Requirement already satisfied: colorama in c:\\users\\mahes\\anaconda3\\lib\\site-packages (from click->nltk>=3.9->textblob) (0.4.6)\n",
      "Downloading textblob-0.19.0-py3-none-any.whl (624 kB)\n",
      "   ---------------------------------------- 0.0/624.3 kB ? eta -:--:--\n",
      "    --------------------------------------- 10.2/624.3 kB ? eta -:--:--\n",
      "    --------------------------------------- 10.2/624.3 kB ? eta -:--:--\n",
      "   - ------------------------------------- 30.7/624.3 kB 262.6 kB/s eta 0:00:03\n",
      "   -- ------------------------------------ 41.0/624.3 kB 281.8 kB/s eta 0:00:03\n",
      "   ------ ------------------------------- 112.6/624.3 kB 547.6 kB/s eta 0:00:01\n",
      "   --------------- ------------------------ 235.5/624.3 kB 1.0 MB/s eta 0:00:01\n",
      "   ------------------------------ --------- 481.3/624.3 kB 1.7 MB/s eta 0:00:01\n",
      "   ---------------------------------------- 624.3/624.3 kB 1.9 MB/s eta 0:00:00\n",
      "Downloading nltk-3.9.1-py3-none-any.whl (1.5 MB)\n",
      "   ---------------------------------------- 0.0/1.5 MB ? eta -:--:--\n",
      "   ---------- ----------------------------- 0.4/1.5 MB 12.9 MB/s eta 0:00:01\n",
      "   -------------- ------------------------- 0.5/1.5 MB 11.1 MB/s eta 0:00:01\n",
      "   -------------- ------------------------- 0.5/1.5 MB 11.1 MB/s eta 0:00:01\n",
      "   ------------------------------ --------- 1.1/1.5 MB 6.5 MB/s eta 0:00:01\n",
      "   ----------------------------------- ---- 1.3/1.5 MB 6.0 MB/s eta 0:00:01\n",
      "   ---------------------------------------  1.5/1.5 MB 6.4 MB/s eta 0:00:01\n",
      "   ---------------------------------------- 1.5/1.5 MB 5.0 MB/s eta 0:00:00\n",
      "Installing collected packages: nltk, textblob\n",
      "  Attempting uninstall: nltk\n",
      "    Found existing installation: nltk 3.8.1\n",
      "    Uninstalling nltk-3.8.1:\n",
      "      Successfully uninstalled nltk-3.8.1\n",
      "Successfully installed nltk-3.9.1 textblob-0.19.0\n"
     ]
    }
   ],
   "source": [
    "pip install textblob tweepy"
   ]
  },
  {
   "cell_type": "code",
   "execution_count": 71,
   "id": "dc2eb4ea-bfc9-4992-8f67-6c3422de3067",
   "metadata": {},
   "outputs": [],
   "source": [
    "import tweepy\n",
    "from textblob import TextBlob"
   ]
  },
  {
   "cell_type": "code",
   "execution_count": 87,
   "id": "38040493-6db2-482c-b667-e2743b53da8a",
   "metadata": {},
   "outputs": [],
   "source": [
    "#Twitter API credentails\n",
    "consumer_key='pIFDEpbs3kfe1K0HO63OhxppJ'\n",
    "consumer_secret= 't4bHbloZlEBaZc8m0UCKaVJ8wVbxbPOhyXmeCQuoDqNFYrji8v'\n",
    "access_token= '1397237266557247489-d6nomZRj2J1C2vhiGqhlGnmPYI0iDT'\n",
    "access_token_secret= 'S7H4Ef6FZau1qO6XPKt1h99oAOYDbJ8eOB3LJcsCtVg6V'"
   ]
  },
  {
   "cell_type": "code",
   "execution_count": 89,
   "id": "f179f731-83c8-4da2-a8f7-14c68b27bfba",
   "metadata": {},
   "outputs": [],
   "source": [
    "#Authentication with the X API using V2\n",
    "client  = tweepy.Client(consumer_key=consumer_key,consumer_secret=consumer_secret,access_token=access_token,access_token_secret=access_token_secret)"
   ]
  },
  {
   "cell_type": "code",
   "execution_count": 97,
   "id": "118b06e3-b282-427f-8b3d-fb7430cd0b08",
   "metadata": {},
   "outputs": [],
   "source": [
    "query = \"AI Innovations -is:retweet lagen:e\"\n",
    "max_results = 100"
   ]
  },
  {
   "cell_type": "code",
   "execution_count": null,
   "id": "d9d2fa7c-129e-4985-a7d0-4323ea138ca0",
   "metadata": {},
   "outputs": [],
   "source": [
    "tweets = client.search_recent_tweets(query=query, max_results=max_results, tweet_fi)"
   ]
  },
  {
   "cell_type": "code",
   "execution_count": 91,
   "id": "3dffdc91-58ea-4e55-8487-a4d485198b0b",
   "metadata": {},
   "outputs": [],
   "source": [
    "#Authentication\n",
    "auth = tweepy.OAuth1UserHandler(consumer_key,consumer_secret,access_token,access_token_secret)\n",
    "api = tweepy.API(auth)"
   ]
  },
  {
   "cell_type": "code",
   "execution_count": 93,
   "id": "bea678b5-8abb-43e0-951b-d8166a3c7029",
   "metadata": {},
   "outputs": [],
   "source": [
    "#Collect tweets\n",
    "query = 'IPL2024'\n",
    "tweets = tweepy.Cursor(api.search_tweets,q=query, lang='en', tweet_mode='extended').items(1000)"
   ]
  },
  {
   "cell_type": "code",
   "execution_count": null,
   "id": "a4d700ce-6f52-4bd2-90e0-9285f4ea587e",
   "metadata": {},
   "outputs": [],
   "source": [
    "#Store tweets in a list\n",
    "tweets_data = [tweet.full_text for tweet in tweets]"
   ]
  },
  {
   "cell_type": "code",
   "execution_count": 17,
   "id": "17257ba2-21c4-43c8-8dff-0108c9e97db5",
   "metadata": {},
   "outputs": [],
   "source": [
    "#Clean Text Data\n",
    "def Clean_data(Text):\n",
    "    Text = re.sub(r\"http\\s+\",\"\",str(Text))\n",
    "    Text = re.sub(r\"@\\W+\",\"\",Text)\n",
    "    Text = re.sub(r\"#\",\"\",Text)\n",
    "    Text = re.sub(r\"[^A-Za-z\\s]\",\"\",Text)\n",
    "    return Text.lower()"
   ]
  },
  {
   "cell_type": "code",
   "execution_count": 42,
   "id": "ee74e41c-6ae7-4b59-bdb4-7b3794898d23",
   "metadata": {},
   "outputs": [
    {
     "data": {
      "text/plain": [
       "<tweepy.cursor.ItemIterator at 0x1328a717080>"
      ]
     },
     "execution_count": 42,
     "metadata": {},
     "output_type": "execute_result"
    }
   ],
   "source": [
    "tweets"
   ]
  },
  {
   "cell_type": "code",
   "execution_count": 19,
   "id": "11b9c949-dda2-49b0-abf7-be7ee40fbf68",
   "metadata": {},
   "outputs": [],
   "source": [
    "df['Clean_Text']=df['Text'].apply(Clean_data)"
   ]
  },
  {
   "cell_type": "code",
   "execution_count": 21,
   "id": "a5b65460-3d32-48d9-8829-9a6b3175b320",
   "metadata": {},
   "outputs": [
    {
     "data": {
      "text/html": [
       "<div>\n",
       "<style scoped>\n",
       "    .dataframe tbody tr th:only-of-type {\n",
       "        vertical-align: middle;\n",
       "    }\n",
       "\n",
       "    .dataframe tbody tr th {\n",
       "        vertical-align: top;\n",
       "    }\n",
       "\n",
       "    .dataframe thead th {\n",
       "        text-align: right;\n",
       "    }\n",
       "</style>\n",
       "<table border=\"1\" class=\"dataframe\">\n",
       "  <thead>\n",
       "    <tr style=\"text-align: right;\">\n",
       "      <th></th>\n",
       "      <th>Unnamed: 0</th>\n",
       "      <th>Text</th>\n",
       "      <th>Sentiment</th>\n",
       "      <th>Timestamp</th>\n",
       "      <th>User</th>\n",
       "      <th>Platform</th>\n",
       "      <th>Hashtags</th>\n",
       "      <th>Retweets</th>\n",
       "      <th>Likes</th>\n",
       "      <th>Country</th>\n",
       "      <th>Year</th>\n",
       "      <th>Month</th>\n",
       "      <th>Day</th>\n",
       "      <th>Hour</th>\n",
       "      <th>Clean_Text</th>\n",
       "    </tr>\n",
       "  </thead>\n",
       "  <tbody>\n",
       "    <tr>\n",
       "      <th>0</th>\n",
       "      <td>0</td>\n",
       "      <td>Enjoying a beautiful day at the park!        ...</td>\n",
       "      <td>Positive</td>\n",
       "      <td>15-01-2023 12:30</td>\n",
       "      <td>User123</td>\n",
       "      <td>Twitter</td>\n",
       "      <td>#Nature #Park</td>\n",
       "      <td>15</td>\n",
       "      <td>30</td>\n",
       "      <td>USA</td>\n",
       "      <td>2023</td>\n",
       "      <td>1</td>\n",
       "      <td>15</td>\n",
       "      <td>12</td>\n",
       "      <td>enjoying a beautiful day at the park         ...</td>\n",
       "    </tr>\n",
       "    <tr>\n",
       "      <th>1</th>\n",
       "      <td>1</td>\n",
       "      <td>Traffic was terrible this morning.           ...</td>\n",
       "      <td>Negative</td>\n",
       "      <td>15-01-2023 08:45</td>\n",
       "      <td>CommuterX</td>\n",
       "      <td>Twitter</td>\n",
       "      <td>#Traffic #Morning</td>\n",
       "      <td>5</td>\n",
       "      <td>10</td>\n",
       "      <td>Canada</td>\n",
       "      <td>2023</td>\n",
       "      <td>1</td>\n",
       "      <td>15</td>\n",
       "      <td>8</td>\n",
       "      <td>traffic was terrible this morning            ...</td>\n",
       "    </tr>\n",
       "  </tbody>\n",
       "</table>\n",
       "</div>"
      ],
      "text/plain": [
       "   Unnamed: 0                                               Text    Sentiment  \\\n",
       "0           0   Enjoying a beautiful day at the park!        ...   Positive     \n",
       "1           1   Traffic was terrible this morning.           ...   Negative     \n",
       "\n",
       "          Timestamp            User    Platform  \\\n",
       "0  15-01-2023 12:30   User123         Twitter     \n",
       "1  15-01-2023 08:45   CommuterX       Twitter     \n",
       "\n",
       "                                     Hashtags  Retweets  Likes     Country  \\\n",
       "0   #Nature #Park                                    15     30   USA         \n",
       "1   #Traffic #Morning                                 5     10   Canada      \n",
       "\n",
       "   Year  Month  Day  Hour                                         Clean_Text  \n",
       "0  2023      1   15    12   enjoying a beautiful day at the park         ...  \n",
       "1  2023      1   15     8   traffic was terrible this morning            ...  "
      ]
     },
     "execution_count": 21,
     "metadata": {},
     "output_type": "execute_result"
    }
   ],
   "source": [
    "df.head(2)"
   ]
  },
  {
   "cell_type": "code",
   "execution_count": 29,
   "id": "ae9c4876-3ece-402e-927c-e8380b61a36a",
   "metadata": {},
   "outputs": [],
   "source": [
    "if \"Timestamp\" in df.columns:\n",
    "    df[\"Timestamp\"] = pd.to_datetime(df[\"Timestamp\"],format='%d-%m-%Y')\n",
    "    df[\"date\"] = df[\"Timestamp\"].dt.date"
   ]
  },
  {
   "cell_type": "code",
   "execution_count": 104,
   "id": "b84bed37-04f7-49bb-83a8-29aeb253b7eb",
   "metadata": {},
   "outputs": [],
   "source": [
    "df.to_csv(r\"C:\\Users\\mahes\\OneDrive\\FutureIntern/output.csv\")"
   ]
  },
  {
   "cell_type": "code",
   "execution_count": null,
   "id": "908b80d3-2398-4fb3-be72-d7e0808fe243",
   "metadata": {},
   "outputs": [],
   "source": []
  },
  {
   "cell_type": "code",
   "execution_count": null,
   "id": "c91e3028-15c1-4615-a9fa-9139c8408676",
   "metadata": {},
   "outputs": [],
   "source": []
  }
 ],
 "metadata": {
  "kernelspec": {
   "display_name": "Python 3 (ipykernel)",
   "language": "python",
   "name": "python3"
  },
  "language_info": {
   "codemirror_mode": {
    "name": "ipython",
    "version": 3
   },
   "file_extension": ".py",
   "mimetype": "text/x-python",
   "name": "python",
   "nbconvert_exporter": "python",
   "pygments_lexer": "ipython3",
   "version": "3.12.4"
  }
 },
 "nbformat": 4,
 "nbformat_minor": 5
}
